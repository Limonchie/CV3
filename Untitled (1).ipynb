{
 "cells": [
  {
   "cell_type": "code",
   "execution_count": 1,
   "id": "8a69d13c",
   "metadata": {},
   "outputs": [],
   "source": [
    "import tensorflow as tf\n",
    "from tensorflow import keras\n",
    "from tensorflow.keras import layers\n",
    "from tensorflow.keras.datasets import cifar10\n",
    "import matplotlib.pyplot as plt \n",
    "%matplotlib inline"
   ]
  },
  {
   "cell_type": "code",
   "execution_count": 2,
   "id": "4aaf1f09",
   "metadata": {},
   "outputs": [],
   "source": [
    "(x_train, y_train), (x_test, y_test) = cifar10.load_data()"
   ]
  },
  {
   "cell_type": "code",
   "execution_count": 4,
   "id": "6af3691d",
   "metadata": {},
   "outputs": [],
   "source": [
    "x_train = x_train.astype(\"float32\") / 255.0\n",
    "x_test = x_test.astype(\"float32\") / 255.0"
   ]
  },
  {
   "cell_type": "code",
   "execution_count": 5,
   "id": "0224bf62",
   "metadata": {},
   "outputs": [],
   "source": [
    "classes=['самолет', 'автомобиль', 'птица', 'кот', 'олень', 'собака', 'лягушка', 'лошадь', 'корабль', 'грузовик']"
   ]
  },
  {
   "cell_type": "code",
   "execution_count": 6,
   "id": "45eb780f",
   "metadata": {},
   "outputs": [
    {
     "data": {
      "image/png": "[encoded data removed]",
      "text/plain": [
       "<Figure size 640x480 with 1 Axes>"
      ]
     },
     "metadata": {},
     "output_type": "display_data"
    },
    {
     "name": "stdout",
     "output_type": "stream",
     "text": [
      "Номер класса: [1]\n",
      "Тип объекта: автомобиль\n"
     ]
    }
   ],
   "source": [
    "n = 10000\n",
    "plt.imshow(x_train[n])\n",
    "plt.show()\n",
    "print(\"Номер класса:\", y_train[n])\n",
    "print(\"Тип объекта:\", classes[y_train[n][0]])\n"
   ]
  },
  {
   "cell_type": "code",
   "execution_count": 7,
   "id": "7d7f5f25",
   "metadata": {},
   "outputs": [],
   "source": [
    "model = keras.Sequential(\n",
    "[\n",
    "layers.Input(shape=(32, 32, 3)),\n",
    "layers.Conv2D(32, 3, activation=\"relu\"),\n",
    "layers.MaxPooling2D(pool_size=(2, 2)),\n",
    "layers.Conv2D(64, 3, activation=\"relu\"),\n",
    "layers.MaxPooling2D(pool_size=(2, 2)),\n",
    "layers.Conv2D(128, 3, activation=\"relu\"),\n",
    "layers.Flatten(),\n",
    "layers.Dense(64, activation=\"relu\"),\n",
    "layers.Dense(10),\n",
    "]\n",
    ")"
   ]
  },
  {
   "cell_type": "code",
   "execution_count": 8,
   "id": "674b1579",
   "metadata": {},
   "outputs": [
    {
     "name": "stderr",
     "output_type": "stream",
     "text": [
      "WARNING:absl:`lr` is deprecated in Keras optimizer, please use `learning_rate` or use the legacy optimizer, e.g.,tf.keras.optimizers.legacy.Adam.\n"
     ]
    }
   ],
   "source": [
    "model.compile(\n",
    "loss=tf.keras.losses.SparseCategoricalCrossentropy(from_logits=True),\n",
    "optimizer=tf.keras.optimizers.Adam(lr=0.001),\n",
    "metrics=[\"accuracy\"],\n",
    ")"
   ]
  },
  {
   "cell_type": "code",
   "execution_count": 9,
   "id": "a7b19079",
   "metadata": {},
   "outputs": [
    {
     "name": "stdout",
     "output_type": "stream",
     "text": [
      "Epoch 1/20\n",
      "782/782 - 33s - loss: 1.5664 - accuracy: 0.4244 - 33s/epoch - 42ms/step\n",
      "Epoch 2/20\n",
      "782/782 - 24s - loss: 1.1702 - accuracy: 0.5864 - 24s/epoch - 30ms/step\n",
      "Epoch 3/20\n",
      "782/782 - 14s - loss: 1.0081 - accuracy: 0.6468 - 14s/epoch - 18ms/step\n",
      "Epoch 4/20\n",
      "782/782 - 14s - loss: 0.8956 - accuracy: 0.6858 - 14s/epoch - 18ms/step\n",
      "Epoch 5/20\n",
      "782/782 - 14s - loss: 0.8171 - accuracy: 0.7139 - 14s/epoch - 18ms/step\n",
      "Epoch 6/20\n",
      "782/782 - 14s - loss: 0.7584 - accuracy: 0.7333 - 14s/epoch - 18ms/step\n",
      "Epoch 7/20\n",
      "782/782 - 14s - loss: 0.7036 - accuracy: 0.7529 - 14s/epoch - 18ms/step\n",
      "Epoch 8/20\n",
      "782/782 - 14s - loss: 0.6538 - accuracy: 0.7720 - 14s/epoch - 18ms/step\n",
      "Epoch 9/20\n",
      "782/782 - 15s - loss: 0.6129 - accuracy: 0.7851 - 15s/epoch - 20ms/step\n",
      "Epoch 10/20\n",
      "782/782 - 15s - loss: 0.5691 - accuracy: 0.7988 - 15s/epoch - 19ms/step\n",
      "Epoch 11/20\n",
      "782/782 - 15s - loss: 0.5342 - accuracy: 0.8117 - 15s/epoch - 19ms/step\n",
      "Epoch 12/20\n",
      "782/782 - 13s - loss: 0.4982 - accuracy: 0.8239 - 13s/epoch - 16ms/step\n",
      "Epoch 13/20\n",
      "782/782 - 13s - loss: 0.4694 - accuracy: 0.8352 - 13s/epoch - 16ms/step\n",
      "Epoch 14/20\n",
      "782/782 - 13s - loss: 0.4320 - accuracy: 0.8478 - 13s/epoch - 17ms/step\n",
      "Epoch 15/20\n",
      "782/782 - 13s - loss: 0.3960 - accuracy: 0.8591 - 13s/epoch - 17ms/step\n",
      "Epoch 16/20\n",
      "782/782 - 13s - loss: 0.3679 - accuracy: 0.8680 - 13s/epoch - 17ms/step\n",
      "Epoch 17/20\n",
      "782/782 - 13s - loss: 0.3439 - accuracy: 0.8767 - 13s/epoch - 17ms/step\n",
      "Epoch 18/20\n",
      "782/782 - 13s - loss: 0.3145 - accuracy: 0.8876 - 13s/epoch - 17ms/step\n",
      "Epoch 19/20\n",
      "782/782 - 13s - loss: 0.2908 - accuracy: 0.8945 - 13s/epoch - 17ms/step\n",
      "Epoch 20/20\n",
      "782/782 - 13s - loss: 0.2673 - accuracy: 0.9051 - 13s/epoch - 17ms/step\n"
     ]
    },
    {
     "data": {
      "text/plain": [
       "<keras.callbacks.History at 0x241bb4f2f90>"
      ]
     },
     "execution_count": 9,
     "metadata": {},
     "output_type": "execute_result"
    }
   ],
   "source": [
    "model.fit(x_train, y_train, epochs=20, batch_size=64, verbose=2)"
   ]
  },
  {
   "cell_type": "code",
   "execution_count": 10,
   "id": "5a35ac4d",
   "metadata": {},
   "outputs": [
    {
     "name": "stdout",
     "output_type": "stream",
     "text": [
      "157/157 - 1s - loss: 1.1642 - accuracy: 0.7181 - 1s/epoch - 7ms/step\n",
      "Доля верных ответов на тестовых данных: 71.81%\n"
     ]
    }
   ],
   "source": [
    "scores = model.evaluate(x_test, y_test, batch_size=64, verbose=2)\n",
    "print(\"Доля верных ответов на тестовых данных: %.2f%%\" % (scores[1]*100))"
   ]
  },
  {
   "cell_type": "code",
   "execution_count": 11,
   "id": "0af6c274",
   "metadata": {
    "scrolled": true
   },
   "outputs": [
    {
     "data": {
      "image/png": "[encoded data removed]",
      "text/plain": [
       "<Figure size 640x480 with 1 Axes>"
      ]
     },
     "metadata": {},
     "output_type": "display_data"
    }
   ],
   "source": [
    "index=1023\n",
    "plt.imshow(x_test[index])\n",
    "plt.show()\n",
    "     "
   ]
  },
  {
   "cell_type": "code",
   "execution_count": 12,
   "id": "ad4faf39",
   "metadata": {},
   "outputs": [],
   "source": [
    "import numpy as np\n",
    "\n",
    "x = x_test[index]\n",
    "x = np.expand_dims(x, axis=0)"
   ]
  },
  {
   "cell_type": "code",
   "execution_count": 13,
   "id": "ff1f97ba",
   "metadata": {},
   "outputs": [
    {
     "name": "stdout",
     "output_type": "stream",
     "text": [
      "1/1 [==============================] - 0s 61ms/step\n"
     ]
    }
   ],
   "source": [
    "prediction = model.predict(x)"
   ]
  },
  {
   "cell_type": "code",
   "execution_count": 14,
   "id": "bc9d4cdc",
   "metadata": {},
   "outputs": [
    {
     "name": "stdout",
     "output_type": "stream",
     "text": [
      "[[  4.7859397 -12.358226    6.0191774  -3.2691622   1.4483     -5.5359864\n",
      "   -6.172329   -3.5801086 -11.306159  -11.302561 ]]\n",
      "птица\n"
     ]
    }
   ],
   "source": [
    "print(prediction)\n",
    "prediction = np.argmax(prediction)\n",
    "print(classes[prediction])"
   ]
  },
  {
   "cell_type": "code",
   "execution_count": null,
   "id": "6984b4de",
   "metadata": {},
   "outputs": [],
   "source": []
  }
 ],
 "metadata": {
  "kernelspec": {
   "display_name": "Python 3 (ipykernel)",
   "language": "python",
   "name": "python3"
  },
  "language_info": {
   "codemirror_mode": {
    "name": "ipython",
    "version": 3
   },
   "file_extension": ".py",
   "mimetype": "text/x-python",
   "name": "python",
   "nbconvert_exporter": "python",
   "pygments_lexer": "ipython3",
   "version": "3.11.3"
  }
 },
 "nbformat": 4,
 "nbformat_minor": 5
}
